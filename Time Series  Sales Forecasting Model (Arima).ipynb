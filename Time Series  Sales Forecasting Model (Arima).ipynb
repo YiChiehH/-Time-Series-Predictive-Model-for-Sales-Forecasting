{
 "cells": [
  {
   "cell_type": "code",
   "execution_count": null,
   "id": "75bf8744",
   "metadata": {},
   "outputs": [],
   "source": [
    "import pandas as pd\n",
    "import numpy as np\n",
    "import matplotlib.pyplot as plt\n",
    "from statsmodels.tsa.stattools import adfuller\n",
    "from statsmodels.graphics.tsaplots import plot_acf, plot_pacf\n",
    "from statsmodels.tsa.statespace.sarimax import SARIMAX\n",
    "import warnings\n",
    "from sklearn.metrics import mean_squared_error"
   ]
  },
  {
   "cell_type": "markdown",
   "id": "5354c7c2",
   "metadata": {},
   "source": [
    "# Step 1: Import and preprocess the sales data\n"
   ]
  },
  {
   "cell_type": "code",
   "execution_count": null,
   "id": "b4f38cb4",
   "metadata": {},
   "outputs": [],
   "source": [
    "# Read in the sales data, ensuring that the 'Date' column is parsed as datetime and set as the index.\n",
    "\n",
    "data = pd.read_csv('202112 Channel Sales by SKU.csv')\n",
    "data['Date'] = pd.to_datetime(data['Date'])\n",
    "data.set_index('Date', inplace=True)\n"
   ]
  },
  {
   "cell_type": "code",
   "execution_count": null,
   "id": "0ebdcabd",
   "metadata": {},
   "outputs": [],
   "source": [
    "# Resample data to monthly intervals, summing the sales for each month. Fill any missing values with 0.\n",
    "\n",
    "monthly_data = data.resample('M').sum().fillna(0)\n",
    "print(monthly_data.head())\n",
    "\n"
   ]
  },
  {
   "cell_type": "markdown",
   "id": "01e807d2",
   "metadata": {},
   "source": [
    "# Step 2: Test for stationarity using the Augmented Dickey-Fuller test"
   ]
  },
  {
   "cell_type": "code",
   "execution_count": null,
   "id": "adead45e",
   "metadata": {},
   "outputs": [],
   "source": [
    "# This test helps determine if the data is stationary. If p-value > 0.05, the data is non-stationary.\n",
    "\n",
    "result = adfuller(monthly_data['SKB0011373'])\n",
    "print('ADF Statistic:', result[0])\n",
    "print('p-value:', result[1])\n",
    "\n",
    "# If the data is not stationary, apply differencing to make it stationary\n",
    "if result[1] > 0.05:\n",
    "    monthly_data['SKB0011373_diff'] = monthly_data['SKB0011373'].diff().dropna()\n",
    "else:\n",
    "    monthly_data['SKB0011373_diff'] = monthly_data['SKB0011373']\n",
    "\n"
   ]
  },
  {
   "cell_type": "markdown",
   "id": "b6789955",
   "metadata": {},
   "source": [
    "# Step 3: Plot ACF and PACF to determine the values of p and q"
   ]
  },
  {
   "cell_type": "code",
   "execution_count": null,
   "id": "823c1168",
   "metadata": {},
   "outputs": [],
   "source": [
    "# The ACF and PACF plots help identify the appropriate p and q values for the ARIMA model.\n",
    "\n",
    "fig, ax = plt.subplots(2, 1, figsize=(12, 8))\n",
    "plot_acf(monthly_data['SKB0011373_diff'].dropna(), lags=20, ax=ax[0])\n",
    "plot_pacf(monthly_data['SKB0011373_diff'].dropna(), lags=20, ax=ax[1])\n",
    "plt.show()\n",
    "\n"
   ]
  },
  {
   "cell_type": "markdown",
   "id": "67327b12",
   "metadata": {},
   "source": [
    "# Step 4: Use Grid Search to fine-tune the ARIMA model parameters (p, d, q)"
   ]
  },
  {
   "cell_type": "code",
   "execution_count": null,
   "id": "70e59976",
   "metadata": {},
   "outputs": [],
   "source": [
    "# Test different combinations of p, d, q to find the optimal model with the lowest AIC value.\n",
    "\n",
    "warnings.filterwarnings(\"ignore\")\n",
    "\n",
    "p = d = q = range(0, 3)\n",
    "best_aic = float(\"inf\")\n",
    "best_order = None\n",
    "\n",
    "for i in p:\n",
    "    for j in d:\n",
    "        for k in q:\n",
    "            try:\n",
    "                model = SARIMAX(monthly_data['SKB0011373'], order=(i, j, k))\n",
    "                results = model.fit(disp=False)\n",
    "                if results.aic < best_aic:\n",
    "                    best_aic = results.aic\n",
    "                    best_order = (i, j, k)\n",
    "            except:\n",
    "                continue\n",
    "\n",
    "print(f\"Best parameters: p={best_order[0]}, d={best_order[1]}, q={best_order[2]} with AIC={best_aic}\")\n",
    "\n"
   ]
  },
  {
   "cell_type": "markdown",
   "id": "198b215c",
   "metadata": {},
   "source": [
    "# Step 5: Fit the SARIMA model with the best parameters"
   ]
  },
  {
   "cell_type": "code",
   "execution_count": null,
   "id": "64a461ef",
   "metadata": {},
   "outputs": [],
   "source": [
    "# Using the optimal (p, d, q) values, fit the SARIMAX model to the data.\n",
    "\n",
    "model = SARIMAX(monthly_data['SKB0011373'], order=best_order)\n",
    "model_fit = model.fit(disp=False)\n"
   ]
  },
  {
   "cell_type": "markdown",
   "id": "a1f578e1",
   "metadata": {},
   "source": [
    "# Step 6: Forecast the next 12 months of sales"
   ]
  },
  {
   "cell_type": "code",
   "execution_count": null,
   "id": "8294771d",
   "metadata": {},
   "outputs": [],
   "source": [
    "# Generate predictions for the next 12 months and visualize them.\n",
    "\n",
    "forecast = model_fit.get_forecast(steps=12)\n",
    "forecast_ci = forecast.conf_int()\n",
    "\n",
    "plt.figure(figsize=(10, 6))\n",
    "plt.plot(monthly_data.index, monthly_data['SKB0011373'], label='Historical Sales Data')\n",
    "plt.plot(forecast.predicted_mean.index, forecast.predicted_mean, label='Forecast', color='red')\n",
    "plt.fill_between(forecast_ci.index, forecast_ci.iloc[:, 0], forecast_ci.iloc[:, 1], color='pink', alpha=0.3)\n",
    "plt.legend()\n",
    "plt.show()\n"
   ]
  }
 ],
 "metadata": {
  "kernelspec": {
   "display_name": "Python 3 (ipykernel)",
   "language": "python",
   "name": "python3"
  },
  "language_info": {
   "codemirror_mode": {
    "name": "ipython",
    "version": 3
   },
   "file_extension": ".py",
   "mimetype": "text/x-python",
   "name": "python",
   "nbconvert_exporter": "python",
   "pygments_lexer": "ipython3",
   "version": "3.10.9"
  }
 },
 "nbformat": 4,
 "nbformat_minor": 5
}
